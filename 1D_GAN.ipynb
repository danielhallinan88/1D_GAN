{
  "nbformat": 4,
  "nbformat_minor": 0,
  "metadata": {
    "colab": {
      "name": "1D_GAN.ipynb",
      "version": "0.3.2",
      "provenance": [],
      "collapsed_sections": []
    },
    "kernelspec": {
      "name": "python3",
      "display_name": "Python 3"
    }
  },
  "cells": [
    {
      "cell_type": "code",
      "metadata": {
        "id": "YGxRwTdvwiEe",
        "colab_type": "code",
        "outputId": "66f2d2e7-f226-498e-fd00-af961e16750a",
        "colab": {
          "base_uri": "https://localhost:8080/",
          "height": 34
        }
      },
      "source": [
        "from keras.models import Sequential\n",
        "from keras.layers import Dense\n",
        "from keras.utils.vis_utils import plot_model\n",
        "from matplotlib import pyplot\n",
        "import numpy as np"
      ],
      "execution_count": 0,
      "outputs": [
        {
          "output_type": "stream",
          "text": [
            "Using TensorFlow backend.\n"
          ],
          "name": "stderr"
        }
      ]
    },
    {
      "cell_type": "code",
      "metadata": {
        "id": "BYqv2IHA5egy",
        "colab_type": "code",
        "outputId": "88c6bc9b-944c-49f0-fb59-5f2dc4fefc2e",
        "colab": {
          "base_uri": "https://localhost:8080/",
          "height": 269
        }
      },
      "source": [
        "def calculate(x):\n",
        "    return np.square(x)\n",
        "\n",
        "inputs  = np.linspace(-.5, .5, 11)\n",
        "outputs = [ calculate(x) for x in inputs ]\n",
        "\n",
        "pyplot.plot(inputs, outputs)\n",
        "pyplot.show()"
      ],
      "execution_count": 0,
      "outputs": [
        {
          "output_type": "display_data",
          "data": {
            "image/png": "[encoded data removed]",
            "text/plain": [
              "<Figure size 432x288 with 1 Axes>"
            ]
          },
          "metadata": {
            "tags": []
          }
        }
      ]
    },
    {
      "cell_type": "code",
      "metadata": {
        "id": "dw-XoMiN5ukn",
        "colab_type": "code",
        "outputId": "d0aac29c-bc8b-41ab-fb1c-5c9f201f306a",
        "colab": {
          "base_uri": "https://localhost:8080/",
          "height": 269
        }
      },
      "source": [
        "# Generating random samples.\n",
        "def generate_samples(n=100):\n",
        "    X1 = np.random.rand(n) -0.5\n",
        "    X2 = X1 * X1\n",
        "    \n",
        "    X1 = X1.reshape(n, 1)\n",
        "    X2 = X2.reshape(n, 1)\n",
        "    \n",
        "    return np.hstack((X1, X2))\n",
        "    \n",
        "data = generate_samples()\n",
        "\n",
        "pyplot.scatter(data[:, 0], data[:, 1])\n",
        "pyplot.show()"
      ],
      "execution_count": 0,
      "outputs": [
        {
          "output_type": "display_data",
          "data": {
            "image/png": "[encoded data removed]",
            "text/plain": [
              "<Figure size 432x288 with 1 Axes>"
            ]
          },
          "metadata": {
            "tags": []
          }
        }
      ]
    },
    {
      "cell_type": "code",
      "metadata": {
        "id": "-a2KLwQL7tBe",
        "colab_type": "code",
        "outputId": "4f724144-4e89-474a-9156-1b5018251d16",
        "colab": {
          "base_uri": "https://localhost:8080/",
          "height": 471
        }
      },
      "source": [
        "def define_discriminator(n_inputs=2):\n",
        "    model = Sequential()\n",
        "    model.add(Dense(25, activation='relu', kernel_initializer='he_uniform', input_dim=n_inputs))\n",
        "    model.add(Dense(1, activation='sigmoid'))\n",
        "    \n",
        "    model.compile(loss='binary_crossentropy', optimizer='adam', metrics=['accuracy'])\n",
        "    return model\n",
        "    \n",
        "model = define_discriminator()\n",
        "model.summary()\n",
        "\n",
        "#plot_model(model, to_file=\"discriminator_plot.png\", show_shapes=True, show_layer_names=True)"
      ],
      "execution_count": 0,
      "outputs": [
        {
          "output_type": "stream",
          "text": [
            "WARNING: Logging before flag parsing goes to stderr.\n",
            "W0722 18:36:37.279695 139652341553024 deprecation_wrapper.py:119] From /usr/local/lib/python3.6/dist-packages/keras/backend/tensorflow_backend.py:74: The name tf.get_default_graph is deprecated. Please use tf.compat.v1.get_default_graph instead.\n",
            "\n",
            "W0722 18:36:37.339823 139652341553024 deprecation_wrapper.py:119] From /usr/local/lib/python3.6/dist-packages/keras/backend/tensorflow_backend.py:517: The name tf.placeholder is deprecated. Please use tf.compat.v1.placeholder instead.\n",
            "\n",
            "W0722 18:36:37.357489 139652341553024 deprecation_wrapper.py:119] From /usr/local/lib/python3.6/dist-packages/keras/backend/tensorflow_backend.py:4138: The name tf.random_uniform is deprecated. Please use tf.random.uniform instead.\n",
            "\n",
            "W0722 18:36:37.393759 139652341553024 deprecation_wrapper.py:119] From /usr/local/lib/python3.6/dist-packages/keras/optimizers.py:790: The name tf.train.Optimizer is deprecated. Please use tf.compat.v1.train.Optimizer instead.\n",
            "\n",
            "W0722 18:36:37.418316 139652341553024 deprecation_wrapper.py:119] From /usr/local/lib/python3.6/dist-packages/keras/backend/tensorflow_backend.py:3376: The name tf.log is deprecated. Please use tf.math.log instead.\n",
            "\n",
            "W0722 18:36:37.426818 139652341553024 deprecation.py:323] From /usr/local/lib/python3.6/dist-packages/tensorflow/python/ops/nn_impl.py:180: add_dispatch_support.<locals>.wrapper (from tensorflow.python.ops.array_ops) is deprecated and will be removed in a future version.\n",
            "Instructions for updating:\n",
            "Use tf.where in 2.0, which has the same broadcast rule as np.where\n"
          ],
          "name": "stderr"
        },
        {
          "output_type": "stream",
          "text": [
            "_________________________________________________________________\n",
            "Layer (type)                 Output Shape              Param #   \n",
            "=================================================================\n",
            "dense_1 (Dense)              (None, 25)                75        \n",
            "_________________________________________________________________\n",
            "dense_2 (Dense)              (None, 1)                 26        \n",
            "=================================================================\n",
            "Total params: 101\n",
            "Trainable params: 101\n",
            "Non-trainable params: 0\n",
            "_________________________________________________________________\n"
          ],
          "name": "stdout"
        }
      ]
    },
    {
      "cell_type": "code",
      "metadata": {
        "id": "la3GbKH4-x85",
        "colab_type": "code",
        "colab": {}
      },
      "source": [
        "def generate_real_samples(n):\n",
        "    X1 = np.random.rand(n) - 0.5\n",
        "    X2 = X1 * X1\n",
        "  \n",
        "    X1 = X1.reshape(n, 1)\n",
        "    X2 = X2.reshape(n, 1)\n",
        "  \n",
        "    X = np.hstack((X1, X2))\n",
        "    y = np.ones((n, 1))\n",
        "  \n",
        "    return X, y\n",
        "\n",
        "def generate_fake_samples(n):\n",
        "    X1 = -1 + np.random.rand(n) * 2\n",
        "    X2 = -1 + np.random.rand(n) * 2\n",
        "  \n",
        "    X1 = X1.reshape(n, 1)\n",
        "    X2 = X2.reshape(n, 1)\n",
        "  \n",
        "    X = np.hstack((X1, X2))\n",
        "    y = np.zeros((n, 1))\n",
        "    \n",
        "    return X, y"
      ],
      "execution_count": 0,
      "outputs": []
    },
    {
      "cell_type": "code",
      "metadata": {
        "id": "xeHhK0J4BV5f",
        "colab_type": "code",
        "colab": {}
      },
      "source": [
        "def train_discriminator(model, n_epochs=1000, n_batch=128):\n",
        "    half_batch = int(n_batch / 2)\n",
        "    \n",
        "    for i in range(n_epochs):\n",
        "      \n",
        "        X_real, y_real = generate_real_samples(half_batch)\n",
        "        model.train_on_batch(X_real, y_real)\n",
        "        \n",
        "        X_fake, y_fake = generate_fake_samples(half_batch)\n",
        "        model.train_on_batch(X_fake, y_fake)\n",
        "        \n",
        "        _, acc_real = model.evaluate(X_real, y_real, verbose=0)\n",
        "        _, acc_fake = model.evaluate(X_fake, y_fake, verbose=0)\n",
        "        \n",
        "        if i % 50 == 0:\n",
        "            print(i, acc_real, acc_fake)"
      ],
      "execution_count": 0,
      "outputs": []
    },
    {
      "cell_type": "code",
      "metadata": {
        "id": "0r1i2c7dDfwm",
        "colab_type": "code",
        "outputId": "78cebf5b-ae7c-4d9f-a25b-e6e7d2b653ea",
        "colab": {
          "base_uri": "https://localhost:8080/",
          "height": 419
        }
      },
      "source": [
        "train_discriminator(model)"
      ],
      "execution_count": 0,
      "outputs": [
        {
          "output_type": "stream",
          "text": [
            "W0722 18:36:37.839298 139652341553024 deprecation_wrapper.py:119] From /usr/local/lib/python3.6/dist-packages/keras/backend/tensorflow_backend.py:986: The name tf.assign_add is deprecated. Please use tf.compat.v1.assign_add instead.\n",
            "\n"
          ],
          "name": "stderr"
        },
        {
          "output_type": "stream",
          "text": [
            "0 0.4375 0.53125\n",
            "50 0.5625 0.640625\n",
            "100 0.59375 0.734375\n",
            "150 0.40625 0.9375\n",
            "200 0.640625 0.9375\n",
            "250 0.796875 1.0\n",
            "300 0.8125 0.953125\n",
            "350 0.90625 0.953125\n",
            "400 0.953125 0.9375\n",
            "450 0.953125 0.859375\n",
            "500 1.0 0.90625\n",
            "550 1.0 0.84375\n",
            "600 1.0 0.90625\n",
            "650 1.0 0.859375\n",
            "700 1.0 0.859375\n",
            "750 1.0 0.890625\n",
            "800 1.0 0.796875\n",
            "850 1.0 0.890625\n",
            "900 1.0 0.921875\n",
            "950 1.0 0.765625\n"
          ],
          "name": "stdout"
        }
      ]
    },
    {
      "cell_type": "code",
      "metadata": {
        "id": "0BkeIKb5DmIA",
        "colab_type": "code",
        "outputId": "c1377ae1-5a4a-4a57-8d0c-dcc7ef2dae83",
        "colab": {
          "base_uri": "https://localhost:8080/",
          "height": 208
        }
      },
      "source": [
        "def define_generator(latent_dim, n_outputs=2):\n",
        "    model = Sequential()\n",
        "    model.add(Dense(15, activation='relu', kernel_initializer='he_uniform', input_dim=latent_dim))\n",
        "    model.add(Dense(n_outputs, activation='linear'))\n",
        "    return model\n",
        "  \n",
        "model = define_generator(5)\n",
        "model.summary()"
      ],
      "execution_count": 0,
      "outputs": [
        {
          "output_type": "stream",
          "text": [
            "_________________________________________________________________\n",
            "Layer (type)                 Output Shape              Param #   \n",
            "=================================================================\n",
            "dense_3 (Dense)              (None, 15)                90        \n",
            "_________________________________________________________________\n",
            "dense_4 (Dense)              (None, 2)                 32        \n",
            "=================================================================\n",
            "Total params: 122\n",
            "Trainable params: 122\n",
            "Non-trainable params: 0\n",
            "_________________________________________________________________\n"
          ],
          "name": "stdout"
        }
      ]
    },
    {
      "cell_type": "code",
      "metadata": {
        "id": "ezoMDkkFNvHM",
        "colab_type": "code",
        "colab": {}
      },
      "source": [
        "def generate_latent_points(latent_dim, n):\n",
        "    x_input = np.random.randn(latent_dim * n)\n",
        "    x_input = x_input.reshape(n, latent_dim)\n",
        "    return x_input\n",
        "\n",
        "def generate_fake_samples(generator, latent_dim, n):\n",
        "    x_input = generate_latent_points(latent_dim, n)\n",
        "    X = generator.predict(x_input)\n",
        "    \n",
        "    pyplot.scatter(X[:, 0], X[:, 1])\n",
        "    pyplot.show()\n",
        "    \n",
        "    #y = np.zeros((n, 1))\n",
        "    #return X, y"
      ],
      "execution_count": 0,
      "outputs": []
    },
    {
      "cell_type": "code",
      "metadata": {
        "id": "rqoP3W9_PMSV",
        "colab_type": "code",
        "outputId": "cc2ec116-ba36-4eef-e37a-ed76d1bf8370",
        "colab": {
          "base_uri": "https://localhost:8080/",
          "height": 269
        }
      },
      "source": [
        "latent_dim = 5\n",
        "model = define_generator(latent_dim)\n",
        "\n",
        "generate_fake_samples(model, latent_dim, 100)"
      ],
      "execution_count": 0,
      "outputs": [
        {
          "output_type": "display_data",
          "data": {
            "image/png": "[encoded data removed]",
            "text/plain": [
              "<Figure size 432x288 with 1 Axes>"
            ]
          },
          "metadata": {
            "tags": []
          }
        }
      ]
    },
    {
      "cell_type": "code",
      "metadata": {
        "id": "ast66n9kPdw-",
        "colab_type": "code",
        "colab": {}
      },
      "source": [
        "def define_gan(generator, discriminator):\n",
        "    discriminator.trainable = False\n",
        "    model = Sequential()\n",
        "    model.add(generator)\n",
        "    model.add(discriminator)\n",
        "    model.compile(loss='binary_crossentropy', optimizer='adam')\n",
        "    \n",
        "    return model"
      ],
      "execution_count": 0,
      "outputs": []
    },
    {
      "cell_type": "code",
      "metadata": {
        "id": "OOmXGABmHoCz",
        "colab_type": "code",
        "outputId": "7ed1f40d-7486-4317-8bf4-49e86690a480",
        "colab": {
          "base_uri": "https://localhost:8080/",
          "height": 208
        }
      },
      "source": [
        "latent_dim    = 5\n",
        "discriminator = define_discriminator()\n",
        "generator     = define_generator(latent_dim)\n",
        "gan_model     = define_gan(generator, discriminator)\n",
        "gan_model.summary()"
      ],
      "execution_count": 0,
      "outputs": [
        {
          "output_type": "stream",
          "text": [
            "_________________________________________________________________\n",
            "Layer (type)                 Output Shape              Param #   \n",
            "=================================================================\n",
            "sequential_11 (Sequential)   (None, 2)                 122       \n",
            "_________________________________________________________________\n",
            "sequential_10 (Sequential)   (None, 1)                 101       \n",
            "=================================================================\n",
            "Total params: 223\n",
            "Trainable params: 122\n",
            "Non-trainable params: 101\n",
            "_________________________________________________________________\n"
          ],
          "name": "stdout"
        }
      ]
    },
    {
      "cell_type": "code",
      "metadata": {
        "id": "fi7U1edJIVFR",
        "colab_type": "code",
        "colab": {}
      },
      "source": [
        "def train_gan(gan_model, latent_dim, n_epochs=10000, n_batch=128):\n",
        "    for i in range(n_epochs):\n",
        "        x_gan = generate_latent_points(latent_dim, n_batch)\n",
        "        y_gan = np.ones((n_batch, 1))\n",
        "        gan_model.train_on_batch(x_gan, y_gan)"
      ],
      "execution_count": 0,
      "outputs": []
    },
    {
      "cell_type": "code",
      "metadata": {
        "id": "eKsuwGCkKJW-",
        "colab_type": "code",
        "colab": {}
      },
      "source": [
        "def train(g_model, d_model, gan_model, latent_dim, n_epochs=10000, n_batch=128):\n",
        "    half_batch = int(n_batch / 2)\n",
        "    for i in range(n_epochs):\n",
        "        x_real, y_real = generate_real_samples(half_batch)\n",
        "        x_fake, y_fake = generate_fake_samples(g_model, latent_dim, half_batch)\n",
        "        \n",
        "        d_model.train_on_batch(x_real, y_real)\n",
        "        d_model.train_on_batch(x_fake, y_fake)\n",
        "        \n",
        "        x_gan = genearate_latent_points(latent_dim, n_batch)\n",
        "        y_gan = np.ones((n_batch, 1))\n",
        "        \n",
        "        gan_model.train_on_batch(x_gan, y_gan)"
      ],
      "execution_count": 0,
      "outputs": []
    },
    {
      "cell_type": "code",
      "metadata": {
        "id": "qshkCRrkLdBr",
        "colab_type": "code",
        "colab": {}
      },
      "source": [
        "def generate_fake_samples(generator, latent_dim, n):\n",
        "    x_input = generate_latent_points(latent_dim, n)\n",
        "    X = generator.predict(x_input)\n",
        "    \n",
        "    #pyplot.scatter(X[:, 0], X[:, 1])\n",
        "    #pyplot.show()\n",
        "    y = np.zeros((n,1))\n",
        "    return X, y\n",
        "    \n",
        "def summarize_performance(generator, latent_dim, n=100):\n",
        "  x_real, y_real = generate_real_samples(n)\n",
        "  x_fake, y_fake = generate_fake_samples(generator, latent_dim, n)\n",
        "  \n",
        "  pyplot.scatter(x_real[:, 0], x_real[:, 1], color='red')\n",
        "  pyplot.scatter(x_fake[:, 0], x_fake[:, 1], color='blue')\n",
        "  pyplot.show()"
      ],
      "execution_count": 0,
      "outputs": []
    },
    {
      "cell_type": "code",
      "metadata": {
        "id": "UtfqBHnwONZQ",
        "colab_type": "code",
        "colab": {}
      },
      "source": [
        "def summarize_performance(epoch, generate, discriminator, latent_dim, n=100):\n",
        "    x_real, y_real = generate_real_samples(n)\n",
        "    _, acc_real = discriminator.evaluate(x_real, y_real, verbose=0)\n",
        "    \n",
        "    x_fake, y_fake = generate_fake_samples(generator, latent_dim, n)\n",
        "    _, acc_fake = discriminator.evaluate(x_fake, y_fake, verbose=0)\n",
        "    \n",
        "    print(epoch, acc_real, acc_fake)\n",
        "    \n",
        "    pyplot.scatter(x_real[:, 0], x_real[:, 1], color='red')\n",
        "    pyplot.scatter(x_fake[:, 0], x_fake[:, 1], color='blue')\n",
        "    pyplot.show()"
      ],
      "execution_count": 0,
      "outputs": []
    },
    {
      "cell_type": "code",
      "metadata": {
        "id": "222RmT4WOlj-",
        "colab_type": "code",
        "colab": {}
      },
      "source": [
        "def train(g_model, d_model, gan_model, latent_dim, n_epochs=10000, n_batch=128, n_eval=2000):\n",
        "    half_batch = int(n_batch / 2)\n",
        "    for i in range(n_epochs):\n",
        "        x_real, y_real = generate_real_samples(half_batch)\n",
        "        x_fake, y_fake = generate_fake_samples(g_model, latent_dim, half_batch)\n",
        "        \n",
        "        d_model.train_on_batch(x_real, y_real)\n",
        "        d_model.train_on_batch(x_fake, y_fake)\n",
        "        \n",
        "        x_gan = generate_latent_points(latent_dim, n_batch)\n",
        "        y_gan = np.ones((n_batch, 1))\n",
        "        \n",
        "        gan_model.train_on_batch(x_gan, y_gan)\n",
        "        \n",
        "        if (i+1) % n_eval == 0:\n",
        "            summarize_performance(i, g_model, d_model, latent_dim)"
      ],
      "execution_count": 0,
      "outputs": []
    },
    {
      "cell_type": "code",
      "metadata": {
        "id": "LBRAqSpjQTO_",
        "colab_type": "code",
        "outputId": "3a7ac350-e0b9-4c1e-c884-75482f30dd5c",
        "colab": {
          "base_uri": "https://localhost:8080/",
          "height": 1000
        }
      },
      "source": [
        "latent_dim    = 5\n",
        "discriminator = define_discriminator()\n",
        "generator     = define_generator(latent_dim)\n",
        "gan_model     = define_gan(generator, discriminator)\n",
        "\n",
        "train(generator, discriminator, gan_model, latent_dim)"
      ],
      "execution_count": 0,
      "outputs": [
        {
          "output_type": "stream",
          "text": [
            "/usr/local/lib/python3.6/dist-packages/keras/engine/training.py:490: UserWarning: Discrepancy between trainable weights and collected trainable weights, did you set `model.trainable` without calling `model.compile` after ?\n",
            "  'Discrepancy between trainable weights and collected trainable'\n"
          ],
          "name": "stderr"
        },
        {
          "output_type": "stream",
          "text": [
            "1999 0.68 0.43\n"
          ],
          "name": "stdout"
        },
        {
          "output_type": "display_data",
          "data": {
            "image/png": "[encoded data removed]",
            "text/plain": [
              "<Figure size 432x288 with 1 Axes>"
            ]
          },
          "metadata": {
            "tags": []
          }
        },
        {
          "output_type": "stream",
          "text": [
            "3999 0.39 0.75\n"
          ],
          "name": "stdout"
        },
        {
          "output_type": "display_data",
          "data": {
            "image/png": "[encoded data removed]",
            "text/plain": [
              "<Figure size 432x288 with 1 Axes>"
            ]
          },
          "metadata": {
            "tags": []
          }
        },
        {
          "output_type": "stream",
          "text": [
            "5999 0.78 0.33\n"
          ],
          "name": "stdout"
        },
        {
          "output_type": "display_data",
          "data": {
            "image/png": "[encoded data removed]",
            "text/plain": [
              "<Figure size 432x288 with 1 Axes>"
            ]
          },
          "metadata": {
            "tags": []
          }
        },
        {
          "output_type": "stream",
          "text": [
            "7999 0.7 0.4\n"
          ],
          "name": "stdout"
        },
        {
          "output_type": "display_data",
          "data": {
            "image/png": "[encoded data removed]",
            "text/plain": [
              "<Figure size 432x288 with 1 Axes>"
            ]
          },
          "metadata": {
            "tags": []
          }
        },
        {
          "output_type": "stream",
          "text": [
            "9999 0.48 0.55\n"
          ],
          "name": "stdout"
        },
        {
          "output_type": "display_data",
          "data": {
            "image/png": "[encoded data removed]",
            "text/plain": [
              "<Figure size 432x288 with 1 Axes>"
            ]
          },
          "metadata": {
            "tags": []
          }
        }
      ]
    },
    {
      "cell_type": "code",
      "metadata": {
        "id": "WUNl_gx2TRIk",
        "colab_type": "code",
        "colab": {}
      },
      "source": [
        ""
      ],
      "execution_count": 0,
      "outputs": []
    }
  ]
}